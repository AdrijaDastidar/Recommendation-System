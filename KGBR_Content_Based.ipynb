{
  "nbformat": 4,
  "nbformat_minor": 0,
  "metadata": {
    "colab": {
      "provenance": [],
      "gpuType": "V28"
    },
    "kernelspec": {
      "name": "python3",
      "display_name": "Python 3"
    },
    "language_info": {
      "name": "python"
    },
    "accelerator": "TPU"
  },
  "cells": [
    {
      "cell_type": "markdown",
      "source": [
        "# KGBR - Content-based"
      ],
      "metadata": {
        "id": "Uw96eUIAZlyd"
      }
    },
    {
      "cell_type": "code",
      "execution_count": null,
      "metadata": {
        "id": "ID4vXu5jO93T",
        "colab": {
          "base_uri": "https://localhost:8080/"
        },
        "outputId": "a64d1f97-7905-439a-dd3e-14d75700edc2"
      },
      "outputs": [
        {
          "output_type": "stream",
          "name": "stdout",
          "text": [
            "\u001b[?25l   \u001b[90m━━━━━━━━━━━━━━━━━━━━━━━━━━━━━━━━━━━━━━━━\u001b[0m \u001b[32m0.0/1.0 MB\u001b[0m \u001b[31m?\u001b[0m eta \u001b[36m-:--:--\u001b[0m\r\u001b[2K   \u001b[91m━━━━━━━━━━━━━━━━━━━━━━━━\u001b[0m\u001b[91m╸\u001b[0m\u001b[90m━━━━━━━━━━━━━━━\u001b[0m \u001b[32m0.6/1.0 MB\u001b[0m \u001b[31m18.4 MB/s\u001b[0m eta \u001b[36m0:00:01\u001b[0m\r\u001b[2K   \u001b[91m━━━━━━━━━━━━━━━━━━━━━━━━━━━━━━━━━━━━━━━\u001b[0m\u001b[91m╸\u001b[0m \u001b[32m1.0/1.0 MB\u001b[0m \u001b[31m16.2 MB/s\u001b[0m eta \u001b[36m0:00:01\u001b[0m\r\u001b[2K   \u001b[90m━━━━━━━━━━━━━━━━━━━━━━━━━━━━━━━━━━━━━━━━\u001b[0m \u001b[32m1.0/1.0 MB\u001b[0m \u001b[31m10.5 MB/s\u001b[0m eta \u001b[36m0:00:00\u001b[0m\n",
            "\u001b[2K   \u001b[90m━━━━━━━━━━━━━━━━━━━━━━━━━━━━━━━━━━━━━━━━\u001b[0m \u001b[32m302.0/302.0 kB\u001b[0m \u001b[31m12.3 MB/s\u001b[0m eta \u001b[36m0:00:00\u001b[0m\n",
            "\u001b[2K   \u001b[90m━━━━━━━━━━━━━━━━━━━━━━━━━━━━━━━━━━━━━━━━\u001b[0m \u001b[32m2.4/2.4 MB\u001b[0m \u001b[31m22.2 MB/s\u001b[0m eta \u001b[36m0:00:00\u001b[0m\n",
            "\u001b[2K   \u001b[90m━━━━━━━━━━━━━━━━━━━━━━━━━━━━━━━━━━━━━━━━\u001b[0m \u001b[32m177.2/177.2 kB\u001b[0m \u001b[31m6.0 MB/s\u001b[0m eta \u001b[36m0:00:00\u001b[0m\n",
            "\u001b[2K   \u001b[90m━━━━━━━━━━━━━━━━━━━━━━━━━━━━━━━━━━━━━━━━\u001b[0m \u001b[32m106.5/106.5 kB\u001b[0m \u001b[31m6.1 MB/s\u001b[0m eta \u001b[36m0:00:00\u001b[0m\n",
            "\u001b[2K   \u001b[90m━━━━━━━━━━━━━━━━━━━━━━━━━━━━━━━━━━━━━━━━\u001b[0m \u001b[32m408.7/408.7 kB\u001b[0m \u001b[31m16.0 MB/s\u001b[0m eta \u001b[36m0:00:00\u001b[0m\n",
            "\u001b[2K   \u001b[90m━━━━━━━━━━━━━━━━━━━━━━━━━━━━━━━━━━━━━━━━\u001b[0m \u001b[32m3.1/3.1 MB\u001b[0m \u001b[31m39.3 MB/s\u001b[0m eta \u001b[36m0:00:00\u001b[0m\n",
            "\u001b[2K   \u001b[90m━━━━━━━━━━━━━━━━━━━━━━━━━━━━━━━━━━━━━━━━\u001b[0m \u001b[32m49.5/49.5 kB\u001b[0m \u001b[31m1.7 MB/s\u001b[0m eta \u001b[36m0:00:00\u001b[0m\n",
            "\u001b[?25h"
          ]
        }
      ],
      "source": [
        "!pip install --upgrade --quiet langchain langchain-groq neo4j langchain-community py2neo"
      ]
    },
    {
      "cell_type": "markdown",
      "source": [
        "Library Imports"
      ],
      "metadata": {
        "id": "aupRmu5pq_SU"
      }
    },
    {
      "cell_type": "code",
      "source": [
        "import os\n",
        "import numpy as np\n",
        "import pandas as pd\n",
        "from langchain_community.graphs import Neo4jGraph\n",
        "import ast\n",
        "from sklearn.feature_extraction.text import CountVectorizer\n",
        "from sklearn.metrics.pairwise import cosine_similarity\n",
        "from nltk import PorterStemmer\n",
        "from nltk.corpus import stopwords\n",
        "import spacy\n",
        "from py2neo import Graph, Node, Relationship"
      ],
      "metadata": {
        "id": "-ih4yrjcPXjW"
      },
      "execution_count": null,
      "outputs": []
    },
    {
      "cell_type": "code",
      "source": [
        "# Neo4j Configuration\n",
        "NEO4J_URI=\"Your URL"\n",
        "NEO4J_USERNAME=\"Your Username"\n",
        "NEO4J_PASSWORD=\"Your Password""
      ],
      "metadata": {
        "id": "ZsiFrsJiPmO7"
      },
      "execution_count": null,
      "outputs": []
    },
    {
      "cell_type": "code",
      "source": [
        "os.environ[\"NEO4J_URI\"] = NEO4J_URI\n",
        "os.environ[\"NEO4J_USERNAME\"] = NEO4J_USERNAME\n",
        "os.environ[\"NEO4J_PASSWORD\"] = NEO4J_PASSWORD"
      ],
      "metadata": {
        "id": "BUiUDSbEPvei"
      },
      "execution_count": null,
      "outputs": []
    },
    {
      "cell_type": "markdown",
      "source": [
        "Establishing the Graph Connection"
      ],
      "metadata": {
        "id": "NRsYmcQnr6Hc"
      }
    },
    {
      "cell_type": "code",
      "source": [
        "graph = Neo4jGraph(\n",
        "    url=os.environ.get(\"NEO4J_URI\"),\n",
        "    username=os.environ.get(\"NEO4J_USERNAME\"),\n",
        "    password=os.environ.get(\"NEO4J_PASSWORD\"),\n",
        ")\n",
        "graph"
      ],
      "metadata": {
        "colab": {
          "base_uri": "https://localhost:8080/"
        },
        "id": "8SIHOi-UQx_o",
        "outputId": "df9cdd24-7d02-49cd-9cb2-2513cf3d2e8b"
      },
      "execution_count": null,
      "outputs": [
        {
          "output_type": "execute_result",
          "data": {
            "text/plain": [
              "<langchain_community.graphs.neo4j_graph.Neo4jGraph at 0x7934b28e4100>"
            ]
          },
          "metadata": {},
          "execution_count": 5
        }
      ]
    },
    {
      "cell_type": "markdown",
      "source": [
        "**Loading Dataset**\n",
        "https://www.kaggle.com/datasets/tmdb/tmdb-movie-metadata\n",
        "\n",
        "*   Movies Data - tmdb 1M\n",
        "*   Credit Data - tmdb 1M"
      ],
      "metadata": {
        "id": "fXjJXSZ8sASY"
      }
    },
    {
      "cell_type": "code",
      "source": [
        "!gdown 'https://drive.google.com/uc?id=1-xdr4LtRuJETLfVzImRLVhTRTzxPwLFO'\n",
        "movies = pd.read_csv('tmdb_5000_movies.csv')\n",
        "\n",
        "!gdown 'https://drive.google.com/uc?id=1WG7MQTFYnK2BCdLohepuc1AlfRrE1cly'\n",
        "credits = pd.read_csv('tmdb_5000_credits.csv')"
      ],
      "metadata": {
        "colab": {
          "base_uri": "https://localhost:8080/"
        },
        "id": "-V5aFpBNQ0Xg",
        "outputId": "866ccf24-6839-4e42-a826-57d4d08753ea"
      },
      "execution_count": null,
      "outputs": [
        {
          "output_type": "stream",
          "name": "stdout",
          "text": [
            "Downloading...\n",
            "From: https://drive.google.com/uc?id=1-xdr4LtRuJETLfVzImRLVhTRTzxPwLFO\n",
            "To: /content/tmdb_5000_movies.csv\n",
            "100% 5.70M/5.70M [00:00<00:00, 61.5MB/s]\n",
            "Downloading...\n",
            "From: https://drive.google.com/uc?id=1WG7MQTFYnK2BCdLohepuc1AlfRrE1cly\n",
            "To: /content/tmdb_5000_credits.csv\n",
            "100% 40.0M/40.0M [00:00<00:00, 47.8MB/s]\n"
          ]
        }
      ]
    },
    {
      "cell_type": "markdown",
      "source": [
        "**Preprocessing** -\n",
        "\n",
        "\n",
        "1. Merge DataFrames\n",
        "2. Select Relevant Columns\n",
        "3. Check for Missing Values and Duplicates\n",
        "4. Drop Missing Values\n",
        "5. Extract Directors\n",
        "6. Convert String Representations to Lists\n",
        "7. Limit Cast Members\n",
        "8. Tokenize Overviews\n",
        "9. Load NLP Models - spaCy language model and the NLTK Porter Stemmer\n",
        "10. Remove Spaces from Text\n",
        "11. Combine Relevant Features - [ Tag ]\n",
        "12. Apply Stemming\n",
        "13. Download Stopwords and Remove Stopwords from Tags\n",
        "14. Final Column Selection - [ id, title, genres, cast, crew, tag ]\n"
      ],
      "metadata": {
        "id": "1KXXMjBCsZP0"
      }
    },
    {
      "cell_type": "code",
      "source": [
        "movies.merge(credits, left_on='id', right_on='movie_id')\n",
        "movies = movies.merge(credits, left_on='id', right_on='movie_id')\n",
        "movies = movies.head(500)"
      ],
      "metadata": {
        "id": "FM4UB9JZQ_WV"
      },
      "execution_count": null,
      "outputs": []
    },
    {
      "cell_type": "code",
      "source": [
        "# Relevent data\n",
        "# genre, id, keywords, title, overview, cast, crew\n",
        "movies = movies[['id', 'genres', 'title_x', 'overview', 'keywords', 'cast', 'crew']]"
      ],
      "metadata": {
        "id": "OsdTmS6zRI40"
      },
      "execution_count": null,
      "outputs": []
    },
    {
      "cell_type": "code",
      "source": [
        "movies.isnull().sum();\n",
        "movies.duplicated().sum();\n",
        "movies.dropna(inplace = True)"
      ],
      "metadata": {
        "id": "f8iugdBARQkK"
      },
      "execution_count": null,
      "outputs": []
    },
    {
      "cell_type": "code",
      "source": [
        "# Stemming\n",
        "nlp = spacy.load(\"en_core_web_sm\")\n",
        "ps = PorterStemmer()"
      ],
      "metadata": {
        "id": "C-HufzD-RVCd"
      },
      "execution_count": null,
      "outputs": []
    },
    {
      "cell_type": "code",
      "source": [
        "# Convert list of dictinory into single list for genres, cast and keywords\n",
        "def convert(obj):\n",
        "    new_list = []\n",
        "    for i in ast.literal_eval(obj):\n",
        "        new_list.append(i['name'])\n",
        "    return new_list"
      ],
      "metadata": {
        "id": "VsvBIC68R_rU"
      },
      "execution_count": null,
      "outputs": []
    },
    {
      "cell_type": "code",
      "source": [
        "# Convert list of dictinory into single list for crew -> on the basis of director\n",
        "def convert1(obj):\n",
        "    new_list = []\n",
        "    for i in ast.literal_eval(obj):\n",
        "        if i['job'] == 'Director':\n",
        "            new_list.append(i['name'])\n",
        "            break\n",
        "    return new_list"
      ],
      "metadata": {
        "id": "NMFm8ek-Sbnv"
      },
      "execution_count": null,
      "outputs": []
    },
    {
      "cell_type": "code",
      "source": [
        "movies['genres'] = movies['genres'].apply(convert)\n",
        "movies['keywords'] = movies['keywords'].apply(convert)\n",
        "movies['cast'] = movies['cast'].apply(convert)\n",
        "movies['crew'] = movies['crew'].apply(convert1)"
      ],
      "metadata": {
        "id": "W205vWKqSx30"
      },
      "execution_count": null,
      "outputs": []
    },
    {
      "cell_type": "code",
      "source": [
        "movies['overview'] = movies['overview'].apply(lambda x: x.split())"
      ],
      "metadata": {
        "id": "MltCLto8TRO-"
      },
      "execution_count": null,
      "outputs": []
    },
    {
      "cell_type": "code",
      "source": [
        "movies['cast'] = movies['cast'].apply(lambda x: x[:10] if isinstance(x, list) else x)"
      ],
      "metadata": {
        "id": "4ltyLbpV_XWO"
      },
      "execution_count": null,
      "outputs": []
    },
    {
      "cell_type": "code",
      "source": [
        "# Revoming spcace\n",
        "movies['genres'] = movies['genres'].apply(lambda x :[i.replace(\" \", \"\") for i in x])\n",
        "movies['cast'] = movies['cast'].apply(lambda x :[i.replace(\" \", \"\") for i in x])\n",
        "movies['crew'] = movies['crew'].apply(lambda x :[i.replace(\" \", \"\") for i in x])\n",
        "movies['keywords'] = movies['keywords'].apply(lambda x :[i.replace(\" \", \"\") for i in x])"
      ],
      "metadata": {
        "id": "wx976v8-S4IZ"
      },
      "execution_count": null,
      "outputs": []
    },
    {
      "cell_type": "code",
      "source": [
        "movies['tag'] = movies['overview'] + movies['keywords'] + movies['cast'] + movies['crew']"
      ],
      "metadata": {
        "id": "cOWBK7I8TBFm"
      },
      "execution_count": null,
      "outputs": []
    },
    {
      "cell_type": "code",
      "source": [
        "movies['tag'] = movies['tag'].apply(lambda x:\" \".join(x).lower())"
      ],
      "metadata": {
        "id": "ITkmZucPTVYy"
      },
      "execution_count": null,
      "outputs": []
    },
    {
      "cell_type": "code",
      "source": [
        "# Steming\n",
        "movies['tag'] = movies['tag'].apply(lambda x: ps.stem(x))"
      ],
      "metadata": {
        "id": "72mr51cUUYFg"
      },
      "execution_count": null,
      "outputs": []
    },
    {
      "cell_type": "code",
      "source": [
        "import nltk\n",
        "nltk.download('stopwords')"
      ],
      "metadata": {
        "colab": {
          "base_uri": "https://localhost:8080/"
        },
        "id": "a14eGEgTU1XO",
        "outputId": "3dd4fd8a-30c5-4915-8099-ec790df492ff"
      },
      "execution_count": null,
      "outputs": [
        {
          "output_type": "stream",
          "name": "stderr",
          "text": [
            "[nltk_data] Downloading package stopwords to /root/nltk_data...\n",
            "[nltk_data]   Unzipping corpora/stopwords.zip.\n"
          ]
        },
        {
          "output_type": "execute_result",
          "data": {
            "text/plain": [
              "True"
            ]
          },
          "metadata": {},
          "execution_count": 20
        }
      ]
    },
    {
      "cell_type": "code",
      "source": [
        "stop_words = set(stopwords.words('english'))\n",
        "movies['tag'] = movies['tag'].apply(lambda x: \" \".join([word for word in x.split() if word not in stop_words]))"
      ],
      "metadata": {
        "id": "K5LyviTHUmkb"
      },
      "execution_count": null,
      "outputs": []
    },
    {
      "cell_type": "code",
      "source": [
        "# Final DataFrame with necessary columns\n",
        "movies = movies[['id', 'title_x', 'genres', 'cast', 'crew', 'tag']]\n",
        "movies.head()"
      ],
      "metadata": {
        "colab": {
          "base_uri": "https://localhost:8080/",
          "height": 293
        },
        "id": "A9R3tFdOVC-W",
        "outputId": "978fe245-8528-45d1-b613-b52226581be5"
      },
      "execution_count": null,
      "outputs": [
        {
          "output_type": "execute_result",
          "data": {
            "text/plain": [
              "       id                                   title_x  \\\n",
              "0   19995                                    Avatar   \n",
              "1     285  Pirates of the Caribbean: At World's End   \n",
              "2  206647                                   Spectre   \n",
              "3   49026                     The Dark Knight Rises   \n",
              "4   49529                               John Carter   \n",
              "\n",
              "                                         genres  \\\n",
              "0  [Action, Adventure, Fantasy, ScienceFiction]   \n",
              "1                  [Adventure, Fantasy, Action]   \n",
              "2                    [Action, Adventure, Crime]   \n",
              "3              [Action, Crime, Drama, Thriller]   \n",
              "4           [Action, Adventure, ScienceFiction]   \n",
              "\n",
              "                                                cast                crew  \\\n",
              "0  [SamWorthington, ZoeSaldana, SigourneyWeaver, ...      [JamesCameron]   \n",
              "1  [JohnnyDepp, OrlandoBloom, KeiraKnightley, Ste...     [GoreVerbinski]   \n",
              "2  [DanielCraig, ChristophWaltz, LéaSeydoux, Ralp...         [SamMendes]   \n",
              "3  [ChristianBale, MichaelCaine, GaryOldman, Anne...  [ChristopherNolan]   \n",
              "4  [TaylorKitsch, LynnCollins, SamanthaMorton, Wi...     [AndrewStanton]   \n",
              "\n",
              "                                                 tag  \n",
              "0  22nd century, paraplegic marine dispatched moo...  \n",
              "1  captain barbossa, long believed dead, come bac...  \n",
              "2  cryptic message bond’s past sends trail uncove...  \n",
              "3  following death district attorney harvey dent,...  \n",
              "4  john carter war-weary, former military captain...  "
            ],
            "text/html": [
              "\n",
              "  <div id=\"df-290b38fb-bae1-41b5-9880-c4720d0a1fb3\" class=\"colab-df-container\">\n",
              "    <div>\n",
              "<style scoped>\n",
              "    .dataframe tbody tr th:only-of-type {\n",
              "        vertical-align: middle;\n",
              "    }\n",
              "\n",
              "    .dataframe tbody tr th {\n",
              "        vertical-align: top;\n",
              "    }\n",
              "\n",
              "    .dataframe thead th {\n",
              "        text-align: right;\n",
              "    }\n",
              "</style>\n",
              "<table border=\"1\" class=\"dataframe\">\n",
              "  <thead>\n",
              "    <tr style=\"text-align: right;\">\n",
              "      <th></th>\n",
              "      <th>id</th>\n",
              "      <th>title_x</th>\n",
              "      <th>genres</th>\n",
              "      <th>cast</th>\n",
              "      <th>crew</th>\n",
              "      <th>tag</th>\n",
              "    </tr>\n",
              "  </thead>\n",
              "  <tbody>\n",
              "    <tr>\n",
              "      <th>0</th>\n",
              "      <td>19995</td>\n",
              "      <td>Avatar</td>\n",
              "      <td>[Action, Adventure, Fantasy, ScienceFiction]</td>\n",
              "      <td>[SamWorthington, ZoeSaldana, SigourneyWeaver, ...</td>\n",
              "      <td>[JamesCameron]</td>\n",
              "      <td>22nd century, paraplegic marine dispatched moo...</td>\n",
              "    </tr>\n",
              "    <tr>\n",
              "      <th>1</th>\n",
              "      <td>285</td>\n",
              "      <td>Pirates of the Caribbean: At World's End</td>\n",
              "      <td>[Adventure, Fantasy, Action]</td>\n",
              "      <td>[JohnnyDepp, OrlandoBloom, KeiraKnightley, Ste...</td>\n",
              "      <td>[GoreVerbinski]</td>\n",
              "      <td>captain barbossa, long believed dead, come bac...</td>\n",
              "    </tr>\n",
              "    <tr>\n",
              "      <th>2</th>\n",
              "      <td>206647</td>\n",
              "      <td>Spectre</td>\n",
              "      <td>[Action, Adventure, Crime]</td>\n",
              "      <td>[DanielCraig, ChristophWaltz, LéaSeydoux, Ralp...</td>\n",
              "      <td>[SamMendes]</td>\n",
              "      <td>cryptic message bond’s past sends trail uncove...</td>\n",
              "    </tr>\n",
              "    <tr>\n",
              "      <th>3</th>\n",
              "      <td>49026</td>\n",
              "      <td>The Dark Knight Rises</td>\n",
              "      <td>[Action, Crime, Drama, Thriller]</td>\n",
              "      <td>[ChristianBale, MichaelCaine, GaryOldman, Anne...</td>\n",
              "      <td>[ChristopherNolan]</td>\n",
              "      <td>following death district attorney harvey dent,...</td>\n",
              "    </tr>\n",
              "    <tr>\n",
              "      <th>4</th>\n",
              "      <td>49529</td>\n",
              "      <td>John Carter</td>\n",
              "      <td>[Action, Adventure, ScienceFiction]</td>\n",
              "      <td>[TaylorKitsch, LynnCollins, SamanthaMorton, Wi...</td>\n",
              "      <td>[AndrewStanton]</td>\n",
              "      <td>john carter war-weary, former military captain...</td>\n",
              "    </tr>\n",
              "  </tbody>\n",
              "</table>\n",
              "</div>\n",
              "    <div class=\"colab-df-buttons\">\n",
              "\n",
              "  <div class=\"colab-df-container\">\n",
              "    <button class=\"colab-df-convert\" onclick=\"convertToInteractive('df-290b38fb-bae1-41b5-9880-c4720d0a1fb3')\"\n",
              "            title=\"Convert this dataframe to an interactive table.\"\n",
              "            style=\"display:none;\">\n",
              "\n",
              "  <svg xmlns=\"http://www.w3.org/2000/svg\" height=\"24px\" viewBox=\"0 -960 960 960\">\n",
              "    <path d=\"M120-120v-720h720v720H120Zm60-500h600v-160H180v160Zm220 220h160v-160H400v160Zm0 220h160v-160H400v160ZM180-400h160v-160H180v160Zm440 0h160v-160H620v160ZM180-180h160v-160H180v160Zm440 0h160v-160H620v160Z\"/>\n",
              "  </svg>\n",
              "    </button>\n",
              "\n",
              "  <style>\n",
              "    .colab-df-container {\n",
              "      display:flex;\n",
              "      gap: 12px;\n",
              "    }\n",
              "\n",
              "    .colab-df-convert {\n",
              "      background-color: #E8F0FE;\n",
              "      border: none;\n",
              "      border-radius: 50%;\n",
              "      cursor: pointer;\n",
              "      display: none;\n",
              "      fill: #1967D2;\n",
              "      height: 32px;\n",
              "      padding: 0 0 0 0;\n",
              "      width: 32px;\n",
              "    }\n",
              "\n",
              "    .colab-df-convert:hover {\n",
              "      background-color: #E2EBFA;\n",
              "      box-shadow: 0px 1px 2px rgba(60, 64, 67, 0.3), 0px 1px 3px 1px rgba(60, 64, 67, 0.15);\n",
              "      fill: #174EA6;\n",
              "    }\n",
              "\n",
              "    .colab-df-buttons div {\n",
              "      margin-bottom: 4px;\n",
              "    }\n",
              "\n",
              "    [theme=dark] .colab-df-convert {\n",
              "      background-color: #3B4455;\n",
              "      fill: #D2E3FC;\n",
              "    }\n",
              "\n",
              "    [theme=dark] .colab-df-convert:hover {\n",
              "      background-color: #434B5C;\n",
              "      box-shadow: 0px 1px 3px 1px rgba(0, 0, 0, 0.15);\n",
              "      filter: drop-shadow(0px 1px 2px rgba(0, 0, 0, 0.3));\n",
              "      fill: #FFFFFF;\n",
              "    }\n",
              "  </style>\n",
              "\n",
              "    <script>\n",
              "      const buttonEl =\n",
              "        document.querySelector('#df-290b38fb-bae1-41b5-9880-c4720d0a1fb3 button.colab-df-convert');\n",
              "      buttonEl.style.display =\n",
              "        google.colab.kernel.accessAllowed ? 'block' : 'none';\n",
              "\n",
              "      async function convertToInteractive(key) {\n",
              "        const element = document.querySelector('#df-290b38fb-bae1-41b5-9880-c4720d0a1fb3');\n",
              "        const dataTable =\n",
              "          await google.colab.kernel.invokeFunction('convertToInteractive',\n",
              "                                                    [key], {});\n",
              "        if (!dataTable) return;\n",
              "\n",
              "        const docLinkHtml = 'Like what you see? Visit the ' +\n",
              "          '<a target=\"_blank\" href=https://colab.research.google.com/notebooks/data_table.ipynb>data table notebook</a>'\n",
              "          + ' to learn more about interactive tables.';\n",
              "        element.innerHTML = '';\n",
              "        dataTable['output_type'] = 'display_data';\n",
              "        await google.colab.output.renderOutput(dataTable, element);\n",
              "        const docLink = document.createElement('div');\n",
              "        docLink.innerHTML = docLinkHtml;\n",
              "        element.appendChild(docLink);\n",
              "      }\n",
              "    </script>\n",
              "  </div>\n",
              "\n",
              "\n",
              "<div id=\"df-08726a06-950b-4223-ad26-84ecee4230b2\">\n",
              "  <button class=\"colab-df-quickchart\" onclick=\"quickchart('df-08726a06-950b-4223-ad26-84ecee4230b2')\"\n",
              "            title=\"Suggest charts\"\n",
              "            style=\"display:none;\">\n",
              "\n",
              "<svg xmlns=\"http://www.w3.org/2000/svg\" height=\"24px\"viewBox=\"0 0 24 24\"\n",
              "     width=\"24px\">\n",
              "    <g>\n",
              "        <path d=\"M19 3H5c-1.1 0-2 .9-2 2v14c0 1.1.9 2 2 2h14c1.1 0 2-.9 2-2V5c0-1.1-.9-2-2-2zM9 17H7v-7h2v7zm4 0h-2V7h2v10zm4 0h-2v-4h2v4z\"/>\n",
              "    </g>\n",
              "</svg>\n",
              "  </button>\n",
              "\n",
              "<style>\n",
              "  .colab-df-quickchart {\n",
              "      --bg-color: #E8F0FE;\n",
              "      --fill-color: #1967D2;\n",
              "      --hover-bg-color: #E2EBFA;\n",
              "      --hover-fill-color: #174EA6;\n",
              "      --disabled-fill-color: #AAA;\n",
              "      --disabled-bg-color: #DDD;\n",
              "  }\n",
              "\n",
              "  [theme=dark] .colab-df-quickchart {\n",
              "      --bg-color: #3B4455;\n",
              "      --fill-color: #D2E3FC;\n",
              "      --hover-bg-color: #434B5C;\n",
              "      --hover-fill-color: #FFFFFF;\n",
              "      --disabled-bg-color: #3B4455;\n",
              "      --disabled-fill-color: #666;\n",
              "  }\n",
              "\n",
              "  .colab-df-quickchart {\n",
              "    background-color: var(--bg-color);\n",
              "    border: none;\n",
              "    border-radius: 50%;\n",
              "    cursor: pointer;\n",
              "    display: none;\n",
              "    fill: var(--fill-color);\n",
              "    height: 32px;\n",
              "    padding: 0;\n",
              "    width: 32px;\n",
              "  }\n",
              "\n",
              "  .colab-df-quickchart:hover {\n",
              "    background-color: var(--hover-bg-color);\n",
              "    box-shadow: 0 1px 2px rgba(60, 64, 67, 0.3), 0 1px 3px 1px rgba(60, 64, 67, 0.15);\n",
              "    fill: var(--button-hover-fill-color);\n",
              "  }\n",
              "\n",
              "  .colab-df-quickchart-complete:disabled,\n",
              "  .colab-df-quickchart-complete:disabled:hover {\n",
              "    background-color: var(--disabled-bg-color);\n",
              "    fill: var(--disabled-fill-color);\n",
              "    box-shadow: none;\n",
              "  }\n",
              "\n",
              "  .colab-df-spinner {\n",
              "    border: 2px solid var(--fill-color);\n",
              "    border-color: transparent;\n",
              "    border-bottom-color: var(--fill-color);\n",
              "    animation:\n",
              "      spin 1s steps(1) infinite;\n",
              "  }\n",
              "\n",
              "  @keyframes spin {\n",
              "    0% {\n",
              "      border-color: transparent;\n",
              "      border-bottom-color: var(--fill-color);\n",
              "      border-left-color: var(--fill-color);\n",
              "    }\n",
              "    20% {\n",
              "      border-color: transparent;\n",
              "      border-left-color: var(--fill-color);\n",
              "      border-top-color: var(--fill-color);\n",
              "    }\n",
              "    30% {\n",
              "      border-color: transparent;\n",
              "      border-left-color: var(--fill-color);\n",
              "      border-top-color: var(--fill-color);\n",
              "      border-right-color: var(--fill-color);\n",
              "    }\n",
              "    40% {\n",
              "      border-color: transparent;\n",
              "      border-right-color: var(--fill-color);\n",
              "      border-top-color: var(--fill-color);\n",
              "    }\n",
              "    60% {\n",
              "      border-color: transparent;\n",
              "      border-right-color: var(--fill-color);\n",
              "    }\n",
              "    80% {\n",
              "      border-color: transparent;\n",
              "      border-right-color: var(--fill-color);\n",
              "      border-bottom-color: var(--fill-color);\n",
              "    }\n",
              "    90% {\n",
              "      border-color: transparent;\n",
              "      border-bottom-color: var(--fill-color);\n",
              "    }\n",
              "  }\n",
              "</style>\n",
              "\n",
              "  <script>\n",
              "    async function quickchart(key) {\n",
              "      const quickchartButtonEl =\n",
              "        document.querySelector('#' + key + ' button');\n",
              "      quickchartButtonEl.disabled = true;  // To prevent multiple clicks.\n",
              "      quickchartButtonEl.classList.add('colab-df-spinner');\n",
              "      try {\n",
              "        const charts = await google.colab.kernel.invokeFunction(\n",
              "            'suggestCharts', [key], {});\n",
              "      } catch (error) {\n",
              "        console.error('Error during call to suggestCharts:', error);\n",
              "      }\n",
              "      quickchartButtonEl.classList.remove('colab-df-spinner');\n",
              "      quickchartButtonEl.classList.add('colab-df-quickchart-complete');\n",
              "    }\n",
              "    (() => {\n",
              "      let quickchartButtonEl =\n",
              "        document.querySelector('#df-08726a06-950b-4223-ad26-84ecee4230b2 button');\n",
              "      quickchartButtonEl.style.display =\n",
              "        google.colab.kernel.accessAllowed ? 'block' : 'none';\n",
              "    })();\n",
              "  </script>\n",
              "</div>\n",
              "\n",
              "    </div>\n",
              "  </div>\n"
            ],
            "application/vnd.google.colaboratory.intrinsic+json": {
              "type": "dataframe",
              "variable_name": "movies",
              "summary": "{\n  \"name\": \"movies\",\n  \"rows\": 500,\n  \"fields\": [\n    {\n      \"column\": \"id\",\n      \"properties\": {\n        \"dtype\": \"number\",\n        \"std\": 72983,\n        \"min\": 12,\n        \"max\": 417859,\n        \"num_unique_values\": 500,\n        \"samples\": [\n          10661,\n          2698,\n          46195\n        ],\n        \"semantic_type\": \"\",\n        \"description\": \"\"\n      }\n    },\n    {\n      \"column\": \"title_x\",\n      \"properties\": {\n        \"dtype\": \"string\",\n        \"num_unique_values\": 500,\n        \"samples\": [\n          \"You Don't Mess with the Zohan\",\n          \"Evan Almighty\",\n          \"Rio\"\n        ],\n        \"semantic_type\": \"\",\n        \"description\": \"\"\n      }\n    },\n    {\n      \"column\": \"genres\",\n      \"properties\": {\n        \"dtype\": \"object\",\n        \"semantic_type\": \"\",\n        \"description\": \"\"\n      }\n    },\n    {\n      \"column\": \"cast\",\n      \"properties\": {\n        \"dtype\": \"object\",\n        \"semantic_type\": \"\",\n        \"description\": \"\"\n      }\n    },\n    {\n      \"column\": \"crew\",\n      \"properties\": {\n        \"dtype\": \"object\",\n        \"semantic_type\": \"\",\n        \"description\": \"\"\n      }\n    },\n    {\n      \"column\": \"tag\",\n      \"properties\": {\n        \"dtype\": \"string\",\n        \"num_unique_values\": 500,\n        \"samples\": [\n          \"israeli counterterrorism soldier secretly fabulous ambition become manhattan hairstylist. zohan's desire runs deep he'll anything -- including faking death going head-to-head arab cab driver -- make dreams come true. newyork israel middleeast hairdresser ladykiller mossad israeli palestinian heart-throb middleeastconflict hairstyle hackysack adamsandler johnturturro emmanuellechriqui nickswardson lainiekazan daoudheidami davematthews charlotterae michaelbuffer robschneider dennisdugan\",\n          \"god contacts congressman evan baxter tells build ark preparation great flood. fathersonrelationship dailylife marriedcouple support father marriage faith baustelle rescue animal nature duringcreditsstinger noah'sark stevecarell laurengraham johngoodman jimmybennett johnmichaelhiggins morganfreeman wandasykes grahamphillips johnnysimmons jonahhill tomshadyac\",\n          \"captured smugglers hatchling, macaw named blu never learned fly lives happily domesticated life minnesota human friend, linda. blu thought last kind, word comes jewel, lone female, lives rio de janeiro, blu linda go meet her. animal smugglers kidnap blu jewel, pair soon escape begin perilous adventure back freedom -- linda. brazil pet bird musical canary samba animal duringcreditsstinger rio1 r\\u00edo1 jesseeisenberg annehathaway lesliemann janelynch will.i.am wandasykes georgelopez jamiefoxx rodrigosantoro jemaineclement carlossaldanha\"\n        ],\n        \"semantic_type\": \"\",\n        \"description\": \"\"\n      }\n    }\n  ]\n}"
            }
          },
          "metadata": {},
          "execution_count": 22
        }
      ]
    },
    {
      "cell_type": "markdown",
      "source": [
        "**Neo4j Query Execution Helper Function** - A Neo4j driver is created to handle database connections. The run_query function is defined to execute Cypher queries in the database."
      ],
      "metadata": {
        "id": "HfqbKXnQ0c_P"
      }
    },
    {
      "cell_type": "code",
      "source": [
        "from neo4j import GraphDatabase\n",
        "driver = GraphDatabase.driver(NEO4J_URI, auth=(NEO4J_USERNAME, NEO4J_PASSWORD))\n",
        "def run_query(query, parameters=None):\n",
        "    with driver.session() as session:\n",
        "        session.run(query, parameters=parameters)"
      ],
      "metadata": {
        "id": "T26uP_I8WT2x"
      },
      "execution_count": null,
      "outputs": []
    },
    {
      "cell_type": "markdown",
      "source": [
        "**Data Loading Functions**\n",
        "1. Load nodes to the function to neo4j.\n",
        "  1. Load Movies\n",
        "  2. Load Genres\n",
        "\n",
        "  \n",
        "2. Creating Similarity Relationships\n",
        "  1. Movie Similarity by Genre\n",
        "  2. Movie Similarity by Crew [Director]\n",
        "  3. Movie Similarity by Cast\n"
      ],
      "metadata": {
        "id": "Tu1yW-nW0ftI"
      }
    },
    {
      "cell_type": "code",
      "source": [
        "def load_movies(movies):\n",
        "    \"\"\"Load movies as nodes with properties.\"\"\"\n",
        "    for _, row in movies.iterrows():\n",
        "        query = \"\"\"\n",
        "        MERGE (m:Movie {id: $id})\n",
        "        SET m.title = $title,\n",
        "            m.tag = $tag\n",
        "        \"\"\"\n",
        "        parameters = {\n",
        "            \"id\": row['id'],\n",
        "            \"title\": row['title_x'],\n",
        "            \"tag\": \" \".join(row['tag'])\n",
        "        }\n",
        "        run_query(query, parameters)\n",
        "    print(\"Movies loaded successfully.\")\n"
      ],
      "metadata": {
        "id": "hCuSX0ZmVMci"
      },
      "execution_count": null,
      "outputs": []
    },
    {
      "cell_type": "code",
      "source": [
        "def load_genres(movies):\n",
        "    \"\"\"Load genres as nodes and create relationships to movies.\"\"\"\n",
        "    for _, row in movies.iterrows():\n",
        "        for genre in row['genres']:\n",
        "            query = \"\"\"\n",
        "            MERGE (m:Movie {id: $movie_id})\n",
        "            MERGE (g:Genre {name: $genre})\n",
        "            MERGE (m)-[:HAS_GENRE]->(g)\n",
        "            \"\"\"\n",
        "            parameters = {\n",
        "                \"movie_id\": row['id'],\n",
        "                \"genre\": genre\n",
        "            }\n",
        "            run_query(query, parameters)\n",
        "    print(\"Genres and genre relationships loaded successfully.\")\n"
      ],
      "metadata": {
        "id": "IT1i4z4vVmRc"
      },
      "execution_count": null,
      "outputs": []
    },
    {
      "cell_type": "code",
      "source": [
        "def load_cast(movies):\n",
        "    \"\"\"Load cast as nodes and create relationships to movies.\"\"\"\n",
        "    for _, row in movies.iterrows():\n",
        "        for actor in row['cast']:\n",
        "            query = \"\"\"\n",
        "            MERGE (m:Movie {id: $movie_id})\n",
        "            MERGE (a:Actor {name: $actor_name})\n",
        "            MERGE (m)-[:HAS_CAST]->(a)\n",
        "            \"\"\"\n",
        "            parameters = {\n",
        "                \"movie_id\": row['id'],\n",
        "                \"actor_name\": actor\n",
        "            }\n",
        "            run_query(query, parameters)\n",
        "    print(\"Cast and cast relationships loaded successfully.\")\n"
      ],
      "metadata": {
        "id": "NHaR6c1_Wb1a"
      },
      "execution_count": null,
      "outputs": []
    },
    {
      "cell_type": "code",
      "source": [
        "def load_directors(movies):\n",
        "    \"\"\"Load directors as nodes and create relationships to movies.\"\"\"\n",
        "    for _, row in movies.iterrows():\n",
        "        for director in row['crew']:\n",
        "            query = \"\"\"\n",
        "            MERGE (m:Movie {id: $movie_id})\n",
        "            MERGE (d:Director {name: $director_name})\n",
        "            MERGE (m)-[:HAS_DIRECTOR]->(d)\n",
        "            \"\"\"\n",
        "            parameters = {\n",
        "                \"movie_id\": row['id'],\n",
        "                \"director_name\": director\n",
        "            }\n",
        "            run_query(query, parameters)\n",
        "    print(\"Directors and director relationships loaded successfully.\")\n"
      ],
      "metadata": {
        "id": "v_rdft1aWfvJ"
      },
      "execution_count": null,
      "outputs": []
    },
    {
      "cell_type": "code",
      "source": [
        "load_movies(movies)\n",
        "load_genres(movies)\n",
        "load_cast(movies)\n",
        "load_directors(movies)"
      ],
      "metadata": {
        "colab": {
          "base_uri": "https://localhost:8080/"
        },
        "id": "aXZlsVVVWlEf",
        "outputId": "012f146d-ac1d-429c-8ac7-667b6e17258d"
      },
      "execution_count": null,
      "outputs": [
        {
          "output_type": "stream",
          "name": "stdout",
          "text": [
            "Movies loaded successfully.\n",
            "Genres and genre relationships loaded successfully.\n",
            "Cast and cast relationships loaded successfully.\n",
            "Directors and director relationships loaded successfully.\n"
          ]
        }
      ]
    },
    {
      "cell_type": "markdown",
      "source": [
        "**Text Vectorization** - Bag of Words (BoW) technique\n",
        "* CountVectorizer converts the tag column into a matrix of token counts, limiting to 5000 features and excluding English stop words.\n",
        "* The resulting matrix is converted to a dense numpy array.\n",
        "\n"
      ],
      "metadata": {
        "id": "RuQA7WD51MQ8"
      }
    },
    {
      "cell_type": "code",
      "source": [
        "# Text vectorization + Removing stop words\n",
        "cv = CountVectorizer(max_features = 5000, stop_words = 'english')\n",
        "vectors = cv.fit_transform(movies['tag']).toarray()   # Returns scipy sparse matrix hence convering to numpy array"
      ],
      "metadata": {
        "id": "yT96qOT3Wup8"
      },
      "execution_count": null,
      "outputs": []
    },
    {
      "cell_type": "markdown",
      "source": [
        "**Calculating Cosine Similarity**\n"
      ],
      "metadata": {
        "id": "RDYSyx_E120t"
      }
    },
    {
      "cell_type": "code",
      "source": [
        "# Cosine similarity matrix\n",
        "similarity_matrix = cosine_similarity(vectors)\n",
        "\n",
        "# Most used words\n",
        "cv.get_feature_names_out()\n",
        "\n",
        "# Initilize cosine_similarity\n",
        "similarity = cosine_similarity(vectors)\n",
        "similarity"
      ],
      "metadata": {
        "id": "gEgggdGNXlGb",
        "colab": {
          "base_uri": "https://localhost:8080/"
        },
        "outputId": "61514505-baa2-4554-add1-74654f7b2a73"
      },
      "execution_count": null,
      "outputs": [
        {
          "output_type": "execute_result",
          "data": {
            "text/plain": [
              "array([[1.        , 0.        , 0.        , ..., 0.        , 0.        ,\n",
              "        0.        ],\n",
              "       [0.        , 1.        , 0.        , ..., 0.        , 0.        ,\n",
              "        0.02988072],\n",
              "       [0.        , 0.        , 1.        , ..., 0.02906191, 0.0316386 ,\n",
              "        0.        ],\n",
              "       ...,\n",
              "       [0.        , 0.        , 0.02906191, ..., 1.        , 0.        ,\n",
              "        0.        ],\n",
              "       [0.        , 0.        , 0.0316386 , ..., 0.        , 1.        ,\n",
              "        0.        ],\n",
              "       [0.        , 0.02988072, 0.        , ..., 0.        , 0.        ,\n",
              "        1.        ]])"
            ]
          },
          "metadata": {},
          "execution_count": 25
        }
      ]
    },
    {
      "cell_type": "code",
      "source": [
        "!pip install seaborn matplotlib"
      ],
      "metadata": {
        "colab": {
          "base_uri": "https://localhost:8080/"
        },
        "id": "09Le9nFVtkGc",
        "outputId": "cbf92c8a-b001-4713-c7aa-2b5f0ebc3b90"
      },
      "execution_count": null,
      "outputs": [
        {
          "output_type": "stream",
          "name": "stdout",
          "text": [
            "Requirement already satisfied: seaborn in /usr/local/lib/python3.10/dist-packages (0.13.2)\n",
            "Requirement already satisfied: matplotlib in /usr/local/lib/python3.10/dist-packages (3.8.0)\n",
            "Requirement already satisfied: numpy!=1.24.0,>=1.20 in /usr/local/lib/python3.10/dist-packages (from seaborn) (1.26.4)\n",
            "Requirement already satisfied: pandas>=1.2 in /usr/local/lib/python3.10/dist-packages (from seaborn) (2.2.2)\n",
            "Requirement already satisfied: contourpy>=1.0.1 in /usr/local/lib/python3.10/dist-packages (from matplotlib) (1.3.0)\n",
            "Requirement already satisfied: cycler>=0.10 in /usr/local/lib/python3.10/dist-packages (from matplotlib) (0.12.1)\n",
            "Requirement already satisfied: fonttools>=4.22.0 in /usr/local/lib/python3.10/dist-packages (from matplotlib) (4.54.1)\n",
            "Requirement already satisfied: kiwisolver>=1.0.1 in /usr/local/lib/python3.10/dist-packages (from matplotlib) (1.4.7)\n",
            "Requirement already satisfied: packaging>=20.0 in /usr/local/lib/python3.10/dist-packages (from matplotlib) (24.1)\n",
            "Requirement already satisfied: pillow>=6.2.0 in /usr/local/lib/python3.10/dist-packages (from matplotlib) (10.4.0)\n",
            "Requirement already satisfied: pyparsing>=2.3.1 in /usr/local/lib/python3.10/dist-packages (from matplotlib) (3.2.0)\n",
            "Requirement already satisfied: python-dateutil>=2.7 in /usr/local/lib/python3.10/dist-packages (from matplotlib) (2.8.2)\n",
            "Requirement already satisfied: pytz>=2020.1 in /usr/local/lib/python3.10/dist-packages (from pandas>=1.2->seaborn) (2024.2)\n",
            "Requirement already satisfied: tzdata>=2022.7 in /usr/local/lib/python3.10/dist-packages (from pandas>=1.2->seaborn) (2024.2)\n",
            "Requirement already satisfied: six>=1.5 in /usr/local/lib/python3.10/dist-packages (from python-dateutil>=2.7->matplotlib) (1.16.0)\n"
          ]
        }
      ]
    },
    {
      "cell_type": "code",
      "source": [
        "import matplotlib.pyplot as plt\n",
        "import seaborn as sns\n",
        "\n",
        "similarity = cosine_similarity(vectors)\n",
        "# Set up the figure size for better visualization\n",
        "plt.figure(figsize=(10, 8))\n",
        "\n",
        "# Plot the heatmap\n",
        "sns.heatmap(similarity[:20, :20],  # Use a subset for clarity (e.g., first 20 movies)\n",
        "            cmap=\"YlGnBu\",          # Choose a color palette\n",
        "            square=True,            # Makes each cell square\n",
        "            linewidths=0.5,         # Adds space between cells\n",
        "            annot=False,            # Set to True to show similarity values in cells\n",
        "            cbar_kws={\"shrink\": 0.75})\n",
        "\n",
        "# Set labels and title\n",
        "plt.xlabel(\"Movies\")\n",
        "plt.ylabel(\"Movies\")\n",
        "plt.title(\"Cosine Similarity Heatmap (Subset of Movies)\")\n",
        "\n",
        "# Show the heatmap\n",
        "plt.show()\n"
      ],
      "metadata": {
        "colab": {
          "base_uri": "https://localhost:8080/",
          "height": 718
        },
        "id": "x7TGvkcXtv7t",
        "outputId": "d5baf0bc-717e-4e50-b1f9-ee702dc821de"
      },
      "execution_count": null,
      "outputs": [
        {
          "output_type": "display_data",
          "data": {
            "text/plain": [
              "<Figure size 1000x800 with 2 Axes>"
            ],
            "image/png": "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\n"
          },
          "metadata": {}
        }
      ]
    },
    {
      "cell_type": "markdown",
      "source": [
        "**Recommendation Function** - Cosine Similarity"
      ],
      "metadata": {
        "id": "-xal9wGR10_j"
      }
    },
    {
      "cell_type": "code",
      "source": [
        "# Recomendation fuction\n",
        "def recommend_Cosine_Similarity(name):\n",
        "    m_id = movies[movies['title_x'] == name].index[0]\n",
        "\n",
        "    # List of similarity scores between the m_id and all other movies.\n",
        "    distances = similarity[m_id]\n",
        "\n",
        "    # Sorts the movies based on their similarity scores, excluding the selected movie\n",
        "    movies_list = sorted(list(enumerate(distances)), reverse=True, key=lambda x: x[1])[1:11]\n",
        "    for i in movies_list:\n",
        "        print(movies.iloc[i[0]].title_x)"
      ],
      "metadata": {
        "id": "L52thTXzX18E"
      },
      "execution_count": null,
      "outputs": []
    },
    {
      "cell_type": "markdown",
      "source": [
        "Neo4j driver and creates a function for running queries"
      ],
      "metadata": {
        "id": "gtl8zl5-2H7y"
      }
    },
    {
      "cell_type": "code",
      "source": [
        "from neo4j import GraphDatabase\n",
        "driver = GraphDatabase.driver(NEO4J_URI, auth=(NEO4J_USERNAME, NEO4J_PASSWORD))\n",
        "def run_query(query, parameters=None):\n",
        "    with driver.session() as session:\n",
        "        return session.run(query, parameters)"
      ],
      "metadata": {
        "id": "V1oN4THWKUBw"
      },
      "execution_count": null,
      "outputs": []
    },
    {
      "cell_type": "markdown",
      "source": [
        "**Neo4j Query for Recommendations**\n",
        "\n",
        "1. **recommend_kgbr()** -  \n",
        "  * Suggests movies by identifying a target movie and retrieving its associated genres, cast, and directors from a Neo4j graph database.\n",
        "  * It then finds other movies that share these attributes, excluding the target itself, and counts the shared connections to create a similarity score.\n",
        "  * The results are ordered by this score, and the top ten movies are returned\n",
        "2. **recommend_kgbr_weighted()** -\n",
        "  * The enhanced version of the recommendation function builds on this by introducing a weighted scoring system.\n",
        "  * It still identifies the target movie and its related attributes but assigns different weights to each type of shared attribute:\n",
        "    * Genres score - 1.0\n",
        "    * Cast members score - 1.5\n",
        "    * Directors score - 2.0\n",
        "  * This allows for a more nuanced calculation of similarity."
      ],
      "metadata": {
        "id": "M02fwSbH2VvG"
      }
    },
    {
      "cell_type": "code",
      "source": [
        "from py2neo import Graph\n",
        "\n",
        "# Initialize the Py2neo Graph object\n",
        "graph = Graph(NEO4J_URI, auth=(NEO4J_USERNAME, NEO4J_PASSWORD))\n",
        "\n",
        "# Define the recommendation function using `graph.run`\n",
        "def recommend_kgbr(title):\n",
        "    query = \"\"\"\n",
        "    MATCH (m:Movie {title: $title})-[:HAS_GENRE|HAS_CAST|HAS_DIRECTOR]->(f)\n",
        "    WITH m, f\n",
        "    MATCH (other:Movie)-[:HAS_GENRE|HAS_CAST|HAS_DIRECTOR]->(f)\n",
        "    WHERE other <> m\n",
        "    RETURN other.title AS RecommendedMovie, count(f) AS score, other.id AS Id\n",
        "    ORDER BY score DESC\n",
        "    LIMIT 10\n",
        "    \"\"\"\n",
        "\n",
        "    try:\n",
        "        # Run the query using Py2neo's `graph.run()`\n",
        "        recommendations = graph.run(query, title=title)\n",
        "\n",
        "        # Print each recommended movie\n",
        "        print(f\"Movies recommended based on '{title}':\")\n",
        "        for rec in recommendations:\n",
        "            print(f\"Title: {rec['RecommendedMovie']} \\t| Similarity Score: {rec['score']} \\t ID: {rec['Id']}\")\n",
        "\n",
        "\n",
        "    except Exception as e:\n",
        "        print(\"An error occurred while fetching recommendations:\", e)"
      ],
      "metadata": {
        "id": "nYL__RcYX_2v"
      },
      "execution_count": null,
      "outputs": []
    },
    {
      "cell_type": "code",
      "source": [
        "from py2neo import Graph\n",
        "graph = Graph(NEO4J_URI, auth=(NEO4J_USERNAME, NEO4J_PASSWORD))\n",
        "\n",
        "def recommend_kgbr_weighted(title):\n",
        "    query = \"\"\"\n",
        "    MATCH (m:Movie {title: $title})-[:HAS_GENRE|HAS_CAST|HAS_DIRECTOR]->(f)\n",
        "    WITH m, f\n",
        "    MATCH (other:Movie)-[:HAS_GENRE|HAS_CAST|HAS_DIRECTOR]->(f)\n",
        "    WHERE other <> m\n",
        "\n",
        "    // Count the number of shared genres, cast, and directors\n",
        "    WITH other,\n",
        "         COUNT(CASE WHEN (f:Genre) THEN 1 END) AS genre_count,\n",
        "         COUNT(CASE WHEN (f:Actor) THEN 1 END) AS actor_count,\n",
        "         COUNT(CASE WHEN (f:Director) THEN 1 END) AS director_count\n",
        "\n",
        "    // Calculate the weighted score\n",
        "    RETURN other.title AS RecommendedMovie,\n",
        "          other.id AS Id,\n",
        "           genre_count,\n",
        "           actor_count,\n",
        "           director_count,\n",
        "           (genre_count * 1.0 + actor_count * 1.5 + director_count * 2.0) AS score\n",
        "    ORDER BY score DESC\n",
        "    LIMIT 10\n",
        "    \"\"\"\n",
        "\n",
        "    try:\n",
        "        recommendations = graph.run(query, title=title)\n",
        "\n",
        "        print(f\"Movies recommended based on '{title}':\")\n",
        "        for rec in recommendations:\n",
        "            print(f\"Title: {rec['RecommendedMovie']} \\t|  Similarity Score: {rec['score']} \\t| Id: {rec['Id']}\")\n",
        "\n",
        "    except Exception as e:\n",
        "        print(\"An error occurred while fetching recommendations:\", e)\n"
      ],
      "metadata": {
        "id": "1K6-tTY2SDyM"
      },
      "execution_count": null,
      "outputs": []
    },
    {
      "cell_type": "code",
      "source": [
        "recommend_Cosine_Similarity(\"The Avengers\")"
      ],
      "metadata": {
        "colab": {
          "base_uri": "https://localhost:8080/"
        },
        "id": "kfqTzKNCcFDE",
        "outputId": "88bd32b4-de7e-499d-a39c-ed04aa5b0853"
      },
      "execution_count": null,
      "outputs": [
        {
          "output_type": "stream",
          "name": "stdout",
          "text": [
            "Avengers: Age of Ultron\n",
            "Captain America: Civil War\n",
            "Captain America: The Winter Soldier\n",
            "Iron Man 2\n",
            "Thor\n",
            "Thor: The Dark World\n",
            "Captain America: The First Avenger\n",
            "Iron Man\n",
            "X-Men: Apocalypse\n",
            "Iron Man 3\n"
          ]
        }
      ]
    },
    {
      "cell_type": "code",
      "source": [
        "recommend_kgbr('The Avengers')"
      ],
      "metadata": {
        "colab": {
          "base_uri": "https://localhost:8080/"
        },
        "id": "xBJJz9QfjqSb",
        "outputId": "aabaaf3a-dd45-4fe3-aa34-697e76275b70"
      },
      "execution_count": null,
      "outputs": [
        {
          "output_type": "stream",
          "name": "stdout",
          "text": [
            "Movies recommended based on 'The Avengers':\n",
            "Title: Avengers: Age of Ultron \t| Similarity Score: 10 \t ID: 99861\n",
            "Title: Captain America: Civil War \t| Similarity Score: 7 \t ID: 271110\n",
            "Title: Iron Man 2 \t| Similarity Score: 6 \t ID: 10138\n",
            "Title: Captain America: The Winter Soldier \t| Similarity Score: 6 \t ID: 100402\n",
            "Title: Thor \t| Similarity Score: 6 \t ID: 10195\n",
            "Title: Iron Man \t| Similarity Score: 5 \t ID: 1726\n",
            "Title: Captain America: The First Avenger \t| Similarity Score: 4 \t ID: 1771\n",
            "Title: Thor: The Dark World \t| Similarity Score: 4 \t ID: 76338\n",
            "Title: Iron Man 3 \t| Similarity Score: 4 \t ID: 68721\n",
            "Title: The Island \t| Similarity Score: 4 \t ID: 1635\n"
          ]
        }
      ]
    },
    {
      "cell_type": "code",
      "source": [
        "recommend_kgbr_weighted('The Avengers')"
      ],
      "metadata": {
        "colab": {
          "base_uri": "https://localhost:8080/"
        },
        "id": "RjpHEX2qI1dG",
        "outputId": "1aef97cc-3b16-4a11-edfa-a23f78a9e38e"
      },
      "execution_count": null,
      "outputs": [
        {
          "output_type": "stream",
          "name": "stdout",
          "text": [
            "Movies recommended based on 'The Avengers':\n",
            "Title: Avengers: Age of Ultron \t|  Similarity Score: 14.0 \t| Id: 99861\n",
            "Title: Captain America: Civil War \t|  Similarity Score: 9.0 \t| Id: 271110\n",
            "Title: Thor \t|  Similarity Score: 8.0 \t| Id: 10195\n",
            "Title: Iron Man 2 \t|  Similarity Score: 7.5 \t| Id: 10138\n",
            "Title: Captain America: The Winter Soldier \t|  Similarity Score: 7.5 \t| Id: 100402\n",
            "Title: Iron Man \t|  Similarity Score: 6.0 \t| Id: 1726\n",
            "Title: Thor: The Dark World \t|  Similarity Score: 5.0 \t| Id: 76338\n",
            "Title: Iron Man 3 \t|  Similarity Score: 4.5 \t| Id: 68721\n",
            "Title: Captain America: The First Avenger \t|  Similarity Score: 4.5 \t| Id: 1771\n",
            "Title: The Island \t|  Similarity Score: 4.5 \t| Id: 1635\n"
          ]
        }
      ]
    },
    {
      "cell_type": "markdown",
      "source": [
        "Score Calculation"
      ],
      "metadata": {
        "id": "4kziQxUvkReM"
      }
    },
    {
      "cell_type": "code",
      "source": [
        "from sklearn.metrics import precision_score, recall_score, f1_score\n",
        "\n",
        "# Function to calculate evaluation metrics based on recommended and actual items\n",
        "def evaluate_recommendations(recommended_movies, actual_movies, k=10):\n",
        "    # Get the top k recommendations\n",
        "    top_k_recommendations = recommended_movies[:k]\n",
        "\n",
        "    # Calculate Precision@k\n",
        "    precision_at_k = len(set(top_k_recommendations) & actual_movies) / k\n",
        "\n",
        "    # Calculate Recall@k\n",
        "    recall_at_k = len(set(top_k_recommendations) & actual_movies) / len(actual_movies)\n",
        "\n",
        "    # F1 score is the harmonic mean of precision and recall\n",
        "    if precision_at_k + recall_at_k > 0:\n",
        "        f1_at_k = 2 * (precision_at_k * recall_at_k) / (precision_at_k + recall_at_k)\n",
        "    else:\n",
        "        f1_at_k = 0.0\n",
        "\n",
        "    return precision_at_k, recall_at_k, f1_at_k"
      ],
      "metadata": {
        "id": "QbriQ-mod0Wl"
      },
      "execution_count": null,
      "outputs": []
    },
    {
      "cell_type": "code",
      "source": [
        "# Modify your recommend function to return movie IDs for evaluation\n",
        "def recommend_kgbr_weighted(title, k=10):\n",
        "    query = \"\"\"\n",
        "    MATCH (m:Movie {title: $title})-[:HAS_GENRE|HAS_CAST|HAS_DIRECTOR]->(f)\n",
        "    WITH m, f\n",
        "    MATCH (other:Movie)-[:HAS_GENRE|HAS_CAST|HAS_DIRECTOR]->(f)\n",
        "    WHERE other <> m\n",
        "\n",
        "    WITH other,\n",
        "         COUNT(CASE WHEN (f:Genre) THEN 1 END) AS genre_count,\n",
        "         COUNT(CASE WHEN (f:Actor) THEN 1 END) AS actor_count,\n",
        "         COUNT(CASE WHEN (f:Director) THEN 1 END) AS director_count\n",
        "\n",
        "    RETURN other.title AS RecommendedMovie,\n",
        "           other.id AS Id,\n",
        "           (genre_count * 1.0 + actor_count * 1.5 + director_count * 2.0) AS score\n",
        "    ORDER BY score DESC\n",
        "    LIMIT $k\n",
        "    \"\"\"\n",
        "\n",
        "    try:\n",
        "        recommendations = graph.run(query, title=title, k=k)\n",
        "        recommended_movies = []\n",
        "\n",
        "        for rec in recommendations:\n",
        "            recommended_movies.append(rec[\"Id\"])\n",
        "\n",
        "        return recommended_movies\n",
        "\n",
        "    except Exception as e:\n",
        "        print(\"An error occurred while fetching recommendations:\", e)\n",
        "        return []\n",
        "\n",
        "def recommend_cosine(name):\n",
        "    m_id = movies[movies['title_x'] == name].index[0]\n",
        "    distances = similarity[m_id]\n",
        "    recommend_movies = []\n",
        "    movies_list = sorted(list(enumerate(distances)), reverse=True, key=lambda x: x[1])[1:11]\n",
        "    for i in movies_list:\n",
        "        recommend_movies.append(movies.iloc[i[0]].id)\n",
        "\n",
        "    return recommend_movies"
      ],
      "metadata": {
        "id": "afzlHcyEFC75"
      },
      "execution_count": null,
      "outputs": []
    },
    {
      "cell_type": "code",
      "source": [
        "actual_movies_set = {1771, 99861, 103}\n",
        "recommended_movies = recommend_kgbr_weighted('The Avengers', k=10)\n",
        "\n",
        "precision, recall, f1 = evaluate_recommendations(recommended_movies, actual_movies_set, k=10)\n",
        "\n",
        "print(f\"Precision@10: {precision}\")\n",
        "print(f\"Recall@10: {recall}\")\n",
        "print(f\"F1-score@10: {f1}\")\n",
        "\n",
        "actual_movies_set = {1771, 99861, 103}\n",
        "recommended_movies = recommend_cosine('The Avengers')\n",
        "\n",
        "precision, recall, f1 = evaluate_recommendations(recommended_movies, actual_movies_set, k=10)\n",
        "\n",
        "print(f\"Precision@10: {precision}\")\n",
        "print(f\"Recall@10: {recall}\")\n",
        "print(f\"F1-score@10: {f1}\")"
      ],
      "metadata": {
        "colab": {
          "base_uri": "https://localhost:8080/"
        },
        "collapsed": true,
        "id": "DnMWO_MYd7vb",
        "outputId": "19581d51-6754-410e-e14e-a452c2be3407"
      },
      "execution_count": null,
      "outputs": [
        {
          "output_type": "stream",
          "name": "stdout",
          "text": [
            "Precision@10: 0.2\n",
            "Recall@10: 0.6666666666666666\n",
            "F1-score@10: 0.30769230769230765\n",
            "Precision@10: 0.2\n",
            "Recall@10: 0.6666666666666666\n",
            "F1-score@10: 0.30769230769230765\n"
          ]
        }
      ]
    }
  ]
}
